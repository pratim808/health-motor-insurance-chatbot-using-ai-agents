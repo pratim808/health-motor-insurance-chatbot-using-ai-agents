{
  "metadata": {
    "kernelspec": {
      "language": "python",
      "display_name": "Python 3",
      "name": "python3"
    },
    "language_info": {
      "name": "python",
      "version": "3.10.12",
      "mimetype": "text/x-python",
      "codemirror_mode": {
        "name": "ipython",
        "version": 3
      },
      "pygments_lexer": "ipython3",
      "nbconvert_exporter": "python",
      "file_extension": ".py"
    },
    "kaggle": {
      "accelerator": "none",
      "dataSources": [],
      "dockerImageVersionId": 30822,
      "isInternetEnabled": true,
      "language": "python",
      "sourceType": "notebook",
      "isGpuEnabled": false
    },
    "colab": {
      "name": "insurance_ai_agents",
      "provenance": [],
      "include_colab_link": true
    }
  },
  "nbformat_minor": 0,
  "nbformat": 4,
  "cells": [
    {
      "cell_type": "markdown",
      "metadata": {
        "id": "view-in-github",
        "colab_type": "text"
      },
      "source": [
        "<a href=\"https://colab.research.google.com/github/pratim808/hhealth-motor-insurance-chatbot-using-ai-agents/blob/main/insurance_ai_agents.ipynb\" target=\"_parent\"><img src=\"https://colab.research.google.com/assets/colab-badge.svg\" alt=\"Open In Colab\"/></a>"
      ]
    },
    {
      "cell_type": "code",
      "source": [
        "# This Python 3 environment comes with many helpful analytics libraries installed\n",
        "# It is defined by the kaggle/python Docker image: https://github.com/kaggle/docker-python\n",
        "# For example, here's several helpful packages to load\n",
        "\n",
        "import numpy as np # linear algebra\n",
        "import pandas as pd # data processing, CSV file I/O (e.g. pd.read_csv)\n",
        "\n",
        "# Input data files are available in the read-only \"../input/\" directory\n",
        "# For example, running this (by clicking run or pressing Shift+Enter) will list all files under the input directory\n",
        "\n",
        "import os\n",
        "for dirname, _, filenames in os.walk('/kaggle/input'):\n",
        "    for filename in filenames:\n",
        "        print(os.path.join(dirname, filename))\n",
        "\n",
        "# You can write up to 20GB to the current directory (/kaggle/working/) that gets preserved as output when you create a version using \"Save & Run All\"\n",
        "# You can also write temporary files to /kaggle/temp/, but they won't be saved outside of the current session"
      ],
      "metadata": {
        "_uuid": "8f2839f25d086af736a60e9eeb907d3b93b6e0e5",
        "_cell_guid": "b1076dfc-b9ad-4769-8c92-a6c4dae69d19",
        "trusted": true,
        "id": "1V-PTvzpcE7v"
      },
      "outputs": [],
      "execution_count": null
    },
    {
      "cell_type": "code",
      "source": [
        "!pip install -U langsmith langchain langchain-community  sentence-transformers langchain_huggingface faiss-gpu langchain_groq"
      ],
      "metadata": {
        "trusted": true,
        "execution": {
          "iopub.status.busy": "2025-01-09T14:33:07.467445Z",
          "iopub.execute_input": "2025-01-09T14:33:07.467851Z",
          "iopub.status.idle": "2025-01-09T14:33:24.738494Z",
          "shell.execute_reply.started": "2025-01-09T14:33:07.467771Z",
          "shell.execute_reply": "2025-01-09T14:33:24.737364Z"
        },
        "id": "ZxH13zY0cE74"
      },
      "outputs": [],
      "execution_count": null
    },
    {
      "cell_type": "code",
      "source": [
        "from langchain_community.document_loaders import WebBaseLoader\n",
        "from langchain_community.vectorstores import FAISS\n",
        "from langchain_text_splitters import RecursiveCharacterTextSplitter\n",
        "from langchain_community.embeddings import HuggingFaceEmbeddings\n",
        "from langchain.tools.retriever import create_retriever_tool\n",
        "from langchain_groq import ChatGroq\n",
        "from langchain import hub\n",
        "from langchain.agents import Tool, AgentType, initialize_agent\n",
        "from langchain.memory import ConversationBufferMemory\n",
        "from langchain.tools.render import render_text_description\n",
        "from langchain.agents.format_scratchpad import format_log_to_str\n",
        "from langchain.agents.output_parsers import ReActSingleInputOutputParser\n",
        "from langchain.agents import AgentExecutor\n",
        "\n",
        "# Initialize embeddings (only need to do this once)\n",
        "embeddings = HuggingFaceEmbeddings(\n",
        "    model_name=\"sentence-transformers/all-MiniLM-L6-v2\"\n",
        ")\n",
        "\n",
        "# --- Health Insurance Setup ---\n",
        "health_loader = WebBaseLoader(\"https://www.tataaig.com/health-insurance\")\n",
        "health_docs = health_loader.load()\n",
        "health_documents = RecursiveCharacterTextSplitter(\n",
        "    chunk_size=1500, chunk_overlap=500\n",
        ").split_documents(health_docs)\n",
        "health_vector = FAISS.from_documents(health_documents, embeddings)\n",
        "health_retriever = health_vector.as_retriever(search_kwargs={\"k\": 3})\n",
        "health_tool = create_retriever_tool(\n",
        "    health_retriever,\n",
        "    \"health_insurance_search\",\n",
        "    \"Search for information about Health Insurance. For any questions about Health Insurance, you must use this tool!\",\n",
        ")\n",
        "\n",
        "# --- Motor Insurance Setup ---\n",
        "motor_loader = WebBaseLoader(\"https://www.tataaig.com/motor-insurance\")\n",
        "motor_docs = motor_loader.load()\n",
        "motor_documents = RecursiveCharacterTextSplitter(\n",
        "    chunk_size=1500, chunk_overlap=500\n",
        ").split_documents(motor_docs)\n",
        "motor_vector = FAISS.from_documents(motor_documents, embeddings)\n",
        "motor_retriever = motor_vector.as_retriever(search_kwargs={\"k\": 3})\n",
        "motor_tool = create_retriever_tool(\n",
        "    motor_retriever,\n",
        "    \"motor_insurance_search\",\n",
        "    \"Search for information about Motor Insurance. For any questions about Motor Insurance, you must use this tool!\",\n",
        ")\n",
        "\n",
        "# --- LLM Setup ---\n",
        "groq_api_key = ('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')\n",
        "llm = ChatGroq(groq_api_key=groq_api_key, model_name=\"Llama3-8b-8192\")\n",
        "\n",
        "# --- Tools ---\n",
        "tools = [health_tool, motor_tool]\n",
        "\n"
      ],
      "metadata": {
        "trusted": true,
        "execution": {
          "iopub.status.busy": "2025-01-09T14:34:13.4659Z",
          "iopub.execute_input": "2025-01-09T14:34:13.466248Z",
          "iopub.status.idle": "2025-01-09T14:34:51.318573Z",
          "shell.execute_reply.started": "2025-01-09T14:34:13.46622Z",
          "shell.execute_reply": "2025-01-09T14:34:51.317544Z"
        },
        "id": "MDGPEUuUcE75"
      },
      "outputs": [],
      "execution_count": null
    },
    {
      "cell_type": "code",
      "source": [
        "# --- Prompt ---\n",
        "'''prompt = hub.pull(\"hwchase17/react-chat\")\n",
        "prompt = prompt.partial(\n",
        "    tools=render_text_description(tools),\n",
        "    tool_names=\", \".join([t.name for t in tools]),\n",
        ")'''\n",
        "prompt = hub.pull(\"hwchase17/react-chat\")\n",
        "prompt = prompt.partial(\n",
        "    tools=render_text_description(tools),\n",
        "    tool_names=\", \".join([t.name for t in tools]),\n",
        "    instructions=\"For any question about health insurance, you must use the `health_insurance_search` tool. For any question about motor insurance, you must use the `motor_insurance_search` tool.\"\n",
        ")\n",
        "llm_with_stop = llm.bind(stop=[\"\\nObservation\"])\n",
        "\n",
        "\n"
      ],
      "metadata": {
        "trusted": true,
        "execution": {
          "iopub.status.busy": "2025-01-09T14:34:51.319806Z",
          "iopub.execute_input": "2025-01-09T14:34:51.320479Z",
          "iopub.status.idle": "2025-01-09T14:34:51.533966Z",
          "shell.execute_reply.started": "2025-01-09T14:34:51.320445Z",
          "shell.execute_reply": "2025-01-09T14:34:51.533033Z"
        },
        "id": "GEqqiG8_cE77"
      },
      "outputs": [],
      "execution_count": null
    },
    {
      "cell_type": "code",
      "source": [
        "# --- Agent ---\n",
        "agent = (\n",
        "    {\n",
        "        \"input\": lambda x: x[\"input\"],\n",
        "        \"agent_scratchpad\": lambda x: format_log_to_str(x[\"intermediate_steps\"]),\n",
        "        \"chat_history\": lambda x: x[\"chat_history\"],\n",
        "    }\n",
        "    | prompt\n",
        "    | llm_with_stop\n",
        "    | ReActSingleInputOutputParser()\n",
        ")\n",
        "def handle_agent_error(error, **kwargs):\n",
        "    print(f\"Agent Error: {error}\")\n",
        "    return {\"output\": \"I encountered an error. Please try again.\"}\n",
        "\n",
        "memory = ConversationBufferMemory(memory_key=\"chat_history\")\n",
        "\n",
        "agent_executor = AgentExecutor(agent=agent, tools=tools, verbose=True,memory=memory, handle_parsing_errors=handle_agent_error)\n"
      ],
      "metadata": {
        "trusted": true,
        "execution": {
          "iopub.status.busy": "2025-01-09T14:34:51.535824Z",
          "iopub.execute_input": "2025-01-09T14:34:51.536206Z",
          "iopub.status.idle": "2025-01-09T14:34:51.544471Z",
          "shell.execute_reply.started": "2025-01-09T14:34:51.536168Z",
          "shell.execute_reply": "2025-01-09T14:34:51.543336Z"
        },
        "id": "Kg2-EB4acE78"
      },
      "outputs": [],
      "execution_count": null
    },
    {
      "cell_type": "code",
      "source": [
        "print(agent_executor.invoke({\"input\": \"What is the Waiting Period in a Medical Insurance Policy?\"})[\"output\"])"
      ],
      "metadata": {
        "trusted": true,
        "execution": {
          "iopub.status.busy": "2025-01-09T14:34:51.545649Z",
          "iopub.execute_input": "2025-01-09T14:34:51.545978Z",
          "iopub.status.idle": "2025-01-09T14:34:52.525982Z",
          "shell.execute_reply.started": "2025-01-09T14:34:51.545948Z",
          "shell.execute_reply": "2025-01-09T14:34:52.524893Z"
        },
        "id": "MxGaLCeecE79"
      },
      "outputs": [],
      "execution_count": null
    },
    {
      "cell_type": "markdown",
      "source": [
        "## Analogy\n",
        "\n",
        "Imagine you're trying to answer a question about a specific book.\n",
        "\n",
        "Thought: \"Do I need to use a tool? Yes\" - You realize you need to look up the book.\n",
        "\n",
        "Action: You go to your bookshelf and find the book.\n",
        "\n",
        "Observation: You read the relevant section of the book.\n",
        "\n",
        "Thought: \"Do I need to use a tool? No\" - You have the information you need.\n",
        "\n",
        "Final Answer: You answer the question."
      ],
      "metadata": {
        "id": "bNYs6y7dcE7_"
      }
    },
    {
      "cell_type": "code",
      "source": [
        "print(agent_executor.invoke({\"input\": \"Tell me about motor insurance plans?\"})[\"output\"])"
      ],
      "metadata": {
        "trusted": true,
        "execution": {
          "iopub.status.busy": "2025-01-09T14:34:52.526937Z",
          "iopub.execute_input": "2025-01-09T14:34:52.527229Z",
          "iopub.status.idle": "2025-01-09T14:34:53.457055Z",
          "shell.execute_reply.started": "2025-01-09T14:34:52.527202Z",
          "shell.execute_reply": "2025-01-09T14:34:53.456155Z"
        },
        "id": "imgEALOVcE8C"
      },
      "outputs": [],
      "execution_count": null
    },
    {
      "cell_type": "code",
      "source": [
        "print(agent_executor.invoke({\"input\": \"Tell me about health insurance plans?\"})[\"output\"])"
      ],
      "metadata": {
        "trusted": true,
        "execution": {
          "iopub.status.busy": "2025-01-09T14:34:53.458513Z",
          "iopub.execute_input": "2025-01-09T14:34:53.45892Z",
          "iopub.status.idle": "2025-01-09T14:34:54.178976Z",
          "shell.execute_reply.started": "2025-01-09T14:34:53.458881Z",
          "shell.execute_reply": "2025-01-09T14:34:54.177831Z"
        },
        "id": "uMA1Zp2JcE8D"
      },
      "outputs": [],
      "execution_count": null
    },
    {
      "cell_type": "code",
      "source": [
        "print(agent_executor.invoke({\"input\": \"What is the process for filing a claim for car damage?\"})[\"output\"])"
      ],
      "metadata": {
        "trusted": true,
        "execution": {
          "iopub.status.busy": "2025-01-09T14:35:01.506492Z",
          "iopub.execute_input": "2025-01-09T14:35:01.506863Z",
          "iopub.status.idle": "2025-01-09T14:35:02.732664Z",
          "shell.execute_reply.started": "2025-01-09T14:35:01.50683Z",
          "shell.execute_reply": "2025-01-09T14:35:02.731627Z"
        },
        "id": "VMi5MICTcE8E"
      },
      "outputs": [],
      "execution_count": null
    },
    {
      "cell_type": "code",
      "source": [
        "print(agent_executor.invoke({\"input\": \"Why Should I Buy a Vehicle Insurance Policy?\"})[\"output\"])"
      ],
      "metadata": {
        "trusted": true,
        "execution": {
          "iopub.status.busy": "2025-01-09T14:35:07.265836Z",
          "iopub.execute_input": "2025-01-09T14:35:07.266199Z",
          "iopub.status.idle": "2025-01-09T14:35:08.235345Z",
          "shell.execute_reply.started": "2025-01-09T14:35:07.26617Z",
          "shell.execute_reply": "2025-01-09T14:35:08.234305Z"
        },
        "id": "fAKWGPKocE8F"
      },
      "outputs": [],
      "execution_count": null
    },
    {
      "cell_type": "code",
      "source": [
        "Why Should I Buy a Vehicle Insurance Policy?\n",
        "Types of Motor Insurance"
      ],
      "metadata": {
        "trusted": true,
        "id": "YMAJEyBjcE8F"
      },
      "outputs": [],
      "execution_count": null
    },
    {
      "cell_type": "code",
      "source": [
        "print(agent_executor.invoke({\"input\": \"Types of Motor Insurance\"})[\"output\"])"
      ],
      "metadata": {
        "trusted": true,
        "execution": {
          "iopub.status.busy": "2025-01-09T14:36:01.105155Z",
          "iopub.execute_input": "2025-01-09T14:36:01.105533Z",
          "iopub.status.idle": "2025-01-09T14:36:01.77556Z",
          "shell.execute_reply.started": "2025-01-09T14:36:01.105501Z",
          "shell.execute_reply": "2025-01-09T14:36:01.774473Z"
        },
        "id": "Z65sLaekcE8G"
      },
      "outputs": [],
      "execution_count": null
    },
    {
      "cell_type": "code",
      "source": [
        "Comprehensive Motor Insurance Policy"
      ],
      "metadata": {
        "trusted": true,
        "id": "JTZz7s5acE8H"
      },
      "outputs": [],
      "execution_count": null
    },
    {
      "cell_type": "code",
      "source": [
        "print(agent_executor.invoke({\"input\": \"what is Comprehensive Motor Insurance Policy\"})[\"output\"])"
      ],
      "metadata": {
        "trusted": true,
        "execution": {
          "iopub.status.busy": "2025-01-09T14:36:08.14566Z",
          "iopub.execute_input": "2025-01-09T14:36:08.146081Z",
          "iopub.status.idle": "2025-01-09T14:36:08.89998Z",
          "shell.execute_reply.started": "2025-01-09T14:36:08.14604Z",
          "shell.execute_reply": "2025-01-09T14:36:08.898908Z"
        },
        "id": "v9NW64GPcE8H"
      },
      "outputs": [],
      "execution_count": null
    },
    {
      "cell_type": "markdown",
      "source": [
        "## Original Answer\n",
        "A comprehensive vehicle insurance policy offers extensive coverage as compared to a basic third-party motor insurance policy.\n",
        "The comprehensive motor insurance policy offers protection against financial losses due to damage to your own car and third-party liabilities."
      ],
      "metadata": {
        "id": "usd8060VcE8H"
      }
    },
    {
      "cell_type": "markdown",
      "source": [
        "## Another way to get the response"
      ],
      "metadata": {
        "id": "hEErTQ8OcE8I"
      }
    },
    {
      "cell_type": "code",
      "source": [
        "from langchain.memory import ConversationBufferMemory\n",
        "\n",
        "memory = ConversationBufferMemory(memory_key=\"chat_history\")\n",
        "\n",
        "from langchain.agents import initialize_agent\n",
        "\n",
        "conversational_agent = initialize_agent(\n",
        "    agent=AgentType.CONVERSATIONAL_REACT_DESCRIPTION,\n",
        "    tools=tools,\n",
        "    llm=llm,\n",
        "    verbose=True,\n",
        "    max_iterations=3,\n",
        "    memory=memory,\n",
        ")"
      ],
      "metadata": {
        "trusted": true,
        "execution": {
          "iopub.status.busy": "2025-01-09T14:37:17.665095Z",
          "iopub.execute_input": "2025-01-09T14:37:17.66543Z",
          "iopub.status.idle": "2025-01-09T14:37:17.676604Z",
          "shell.execute_reply.started": "2025-01-09T14:37:17.665401Z",
          "shell.execute_reply": "2025-01-09T14:37:17.675459Z"
        },
        "id": "YDWcrYuGcE8I"
      },
      "outputs": [],
      "execution_count": null
    },
    {
      "cell_type": "code",
      "source": [
        "conversational_agent.run({\"input\" :  \"What’s Not Covered in TATA AIG Motor Insurance?\"})"
      ],
      "metadata": {
        "trusted": true,
        "execution": {
          "iopub.status.busy": "2025-01-09T14:37:20.5856Z",
          "iopub.execute_input": "2025-01-09T14:37:20.586097Z",
          "iopub.status.idle": "2025-01-09T14:37:22.490359Z",
          "shell.execute_reply.started": "2025-01-09T14:37:20.586049Z",
          "shell.execute_reply": "2025-01-09T14:37:22.489372Z"
        },
        "id": "_DrNUd_QcE8I"
      },
      "outputs": [],
      "execution_count": null
    },
    {
      "cell_type": "code",
      "source": [
        "print(agent_executor.invoke({\"input\": \"what is Comprehensive Motor Insurance Policy\"})[\"output\"])"
      ],
      "metadata": {
        "trusted": true,
        "execution": {
          "iopub.status.busy": "2025-01-09T14:37:26.985183Z",
          "iopub.execute_input": "2025-01-09T14:37:26.985557Z",
          "iopub.status.idle": "2025-01-09T14:37:27.620268Z",
          "shell.execute_reply.started": "2025-01-09T14:37:26.98552Z",
          "shell.execute_reply": "2025-01-09T14:37:27.619143Z"
        },
        "id": "sOTvHagrcE8J"
      },
      "outputs": [],
      "execution_count": null
    },
    {
      "cell_type": "code",
      "source": [],
      "metadata": {
        "trusted": true,
        "id": "KVjmOj4ecE8K"
      },
      "outputs": [],
      "execution_count": null
    }
  ]
}